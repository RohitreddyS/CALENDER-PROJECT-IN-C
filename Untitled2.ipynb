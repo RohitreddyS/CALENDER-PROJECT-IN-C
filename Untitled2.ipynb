{
  "nbformat": 4,
  "nbformat_minor": 0,
  "metadata": {
    "colab": {
      "provenance": [],
      "authorship_tag": "ABX9TyM2g8mi5aaRnyIkCULJKw77",
      "include_colab_link": true
    },
    "kernelspec": {
      "name": "python3",
      "display_name": "Python 3"
    },
    "language_info": {
      "name": "python"
    }
  },
  "cells": [
    {
      "cell_type": "markdown",
      "metadata": {
        "id": "view-in-github",
        "colab_type": "text"
      },
      "source": [
        "<a href=\"https://colab.research.google.com/github/RohitreddyS/SRM-LIBRARY-PROJECT-IN-C/blob/main/Untitled2.ipynb\" target=\"_parent\"><img src=\"https://colab.research.google.com/assets/colab-badge.svg\" alt=\"Open In Colab\"/></a>"
      ]
    },
    {
      "cell_type": "code",
      "execution_count": 1,
      "metadata": {
        "id": "A01GebXneLda"
      },
      "outputs": [],
      "source": [
        "from nltk.tokenize import sent_tokenize"
      ]
    },
    {
      "cell_type": "code",
      "source": [
        "sent_tokenize_list = sent_tokenize"
      ],
      "metadata": {
        "id": "sI_72C14e9uR"
      },
      "execution_count": 2,
      "outputs": []
    },
    {
      "cell_type": "code",
      "source": [
        "print (\"\\nSentence tokenizer:\")\n",
        "print (sent_tokenize_list)"
      ],
      "metadata": {
        "colab": {
          "base_uri": "https://localhost:8080/"
        },
        "id": "QN4uylDefDvq",
        "outputId": "44ce3d9b-52f0-4277-8f80-b6a17ed168f6"
      },
      "execution_count": 5,
      "outputs": [
        {
          "output_type": "stream",
          "name": "stdout",
          "text": [
            "\n",
            "Sentence tokenizer:\n",
            "<function sent_tokenize at 0x7cc1b92da290>\n"
          ]
        }
      ]
    },
    {
      "cell_type": "code",
      "source": [
        "print (\"\\nWord tokenizer:\")\n",
        "print (\"word_tokenize\")"
      ],
      "metadata": {
        "colab": {
          "base_uri": "https://localhost:8080/"
        },
        "id": "z8jA8Y5vfaGu",
        "outputId": "e8489e10-f690-48dc-d577-8010af8afafd"
      },
      "execution_count": 9,
      "outputs": [
        {
          "output_type": "stream",
          "name": "stdout",
          "text": [
            "\n",
            "Word tokenizer:\n",
            "word_tokenize\n"
          ]
        }
      ]
    },
    {
      "cell_type": "code",
      "source": [
        "from nltk.tokenize import PunktWordTokenizer\n",
        "punkt_word_tokenizer = PunktWordTokenizer()\n",
        "print (\"\\nPunkt word tokenizer:\")\n",
        "print (punkt_word_tokenizer.tokenize)"
      ],
      "metadata": {
        "colab": {
          "base_uri": "https://localhost:8080/",
          "height": 375
        },
        "id": "e5Pzm1FCf9_i",
        "outputId": "a05aa50c-1ab3-427b-add7-6dec4090537b"
      },
      "execution_count": 15,
      "outputs": [
        {
          "output_type": "error",
          "ename": "ImportError",
          "evalue": "cannot import name 'PunktWordTokenizer' from 'nltk.tokenize' (/usr/local/lib/python3.10/dist-packages/nltk/tokenize/__init__.py)",
          "traceback": [
            "\u001b[0;31m---------------------------------------------------------------------------\u001b[0m",
            "\u001b[0;31mImportError\u001b[0m                               Traceback (most recent call last)",
            "\u001b[0;32m<ipython-input-15-8a0b4a085834>\u001b[0m in \u001b[0;36m<cell line: 1>\u001b[0;34m()\u001b[0m\n\u001b[0;32m----> 1\u001b[0;31m \u001b[0;32mfrom\u001b[0m \u001b[0mnltk\u001b[0m\u001b[0;34m.\u001b[0m\u001b[0mtokenize\u001b[0m \u001b[0;32mimport\u001b[0m \u001b[0mPunktWordTokenizer\u001b[0m\u001b[0;34m\u001b[0m\u001b[0;34m\u001b[0m\u001b[0m\n\u001b[0m\u001b[1;32m      2\u001b[0m \u001b[0mpunkt_word_tokenizer\u001b[0m \u001b[0;34m=\u001b[0m \u001b[0mPunktWordTokenizer\u001b[0m\u001b[0;34m(\u001b[0m\u001b[0;34m)\u001b[0m\u001b[0;34m\u001b[0m\u001b[0;34m\u001b[0m\u001b[0m\n\u001b[1;32m      3\u001b[0m \u001b[0mprint\u001b[0m \u001b[0;34m(\u001b[0m\u001b[0;34m\"\\nPunkt word tokenizer:\"\u001b[0m\u001b[0;34m)\u001b[0m\u001b[0;34m\u001b[0m\u001b[0;34m\u001b[0m\u001b[0m\n\u001b[1;32m      4\u001b[0m \u001b[0mprint\u001b[0m \u001b[0;34m(\u001b[0m\u001b[0mpunkt_word_tokenizer\u001b[0m\u001b[0;34m.\u001b[0m\u001b[0mtokenize\u001b[0m\u001b[0;34m)\u001b[0m\u001b[0;34m\u001b[0m\u001b[0;34m\u001b[0m\u001b[0m\n",
            "\u001b[0;31mImportError\u001b[0m: cannot import name 'PunktWordTokenizer' from 'nltk.tokenize' (/usr/local/lib/python3.10/dist-packages/nltk/tokenize/__init__.py)",
            "",
            "\u001b[0;31m---------------------------------------------------------------------------\u001b[0;32m\nNOTE: If your import is failing due to a missing package, you can\nmanually install dependencies using either !pip or !apt.\n\nTo view examples of installing some common dependencies, click the\n\"Open Examples\" button below.\n\u001b[0;31m---------------------------------------------------------------------------\u001b[0m\n"
          ],
          "errorDetails": {
            "actions": [
              {
                "action": "open_url",
                "actionText": "Open Examples",
                "url": "/notebooks/snippets/importing_libraries.ipynb"
              }
            ]
          }
        }
      ]
    },
    {
      "cell_type": "code",
      "source": [
        "from nltk.tokenize import WordPunctTokenizer\n",
        "word_punct_tokenizer = WordPunctTokenizer()\n",
        "print (\"\\nWord punct tokenizer:\")\n",
        "print (word_punct_tokenizer.tokenize)"
      ],
      "metadata": {
        "colab": {
          "base_uri": "https://localhost:8080/"
        },
        "id": "FXLMfmmAho0L",
        "outputId": "e6c8a319-0cbd-43be-e674-4b168f4a3af2"
      },
      "execution_count": 18,
      "outputs": [
        {
          "output_type": "stream",
          "name": "stdout",
          "text": [
            "\n",
            "Word punct tokenizer:\n",
            "<bound method RegexpTokenizer.tokenize of WordPunctTokenizer(pattern='\\\\w+|[^\\\\w\\\\s]+', gaps=False, discard_empty=True, flags=re.UNICODE|re.MULTILINE|re.DOTALL)>\n"
          ]
        }
      ]
    },
    {
      "cell_type": "code",
      "source": [
        "\n",
        "!pip install nltk\n",
        "\n",
        "import nltk\n",
        "nltk.download('punkt')\n",
        "\n",
        "\n",
        "text = \"Are you curious about tokenization? Let's see how it works! We need to analyze a couple of sentences with punctuations to see it in action.\"\n",
        "\n",
        "\n",
        "from nltk.tokenize import sent_tokenize\n",
        "sent_tokenize_list = sent_tokenize(text)\n",
        "\n",
        "\n",
        "print(\"\\nSentence tokenizer:\")\n",
        "print(sent_tokenize_list)\n",
        "\n",
        "\n",
        "from nltk.tokenize import word_tokenize\n",
        "print(\"\\nWord tokenizer:\")\n",
        "print(word_tokenize(text))\n",
        "\n",
        "\n",
        "from nltk.tokenize import WordPunctTokenizer\n",
        "punkt_word_tokenizer = WordPunctTokenizer()\n",
        "print(\"\\nPunkt word tokenizer:\")\n",
        "print(punkt_word_tokenizer.tokenize(text))\n",
        "\n",
        "from nltk.tokenize import WordPunctTokenizer\n",
        "word_punct_tokenizer = WordPunctTokenizer()\n",
        "print(\"\\nWord punct tokenizer:\")\n",
        "print(word_punct_tokenizer.tokenize(text))"
      ],
      "metadata": {
        "id": "XNTcZuiUiyuU",
        "outputId": "27549501-290c-4632-fa57-acdcf4c43b37",
        "colab": {
          "base_uri": "https://localhost:8080/"
        }
      },
      "execution_count": 19,
      "outputs": [
        {
          "output_type": "stream",
          "name": "stdout",
          "text": [
            "Requirement already satisfied: nltk in /usr/local/lib/python3.10/dist-packages (3.8.1)\n",
            "Requirement already satisfied: click in /usr/local/lib/python3.10/dist-packages (from nltk) (8.1.7)\n",
            "Requirement already satisfied: joblib in /usr/local/lib/python3.10/dist-packages (from nltk) (1.3.2)\n",
            "Requirement already satisfied: regex>=2021.8.3 in /usr/local/lib/python3.10/dist-packages (from nltk) (2023.6.3)\n",
            "Requirement already satisfied: tqdm in /usr/local/lib/python3.10/dist-packages (from nltk) (4.66.1)\n"
          ]
        },
        {
          "output_type": "stream",
          "name": "stderr",
          "text": [
            "[nltk_data] Downloading package punkt to /root/nltk_data...\n",
            "[nltk_data]   Unzipping tokenizers/punkt.zip.\n"
          ]
        },
        {
          "output_type": "stream",
          "name": "stdout",
          "text": [
            "\n",
            "Sentence tokenizer:\n",
            "['Are you curious about tokenization?', \"Let's see how it works!\", 'We need to analyze a couple of sentences with punctuations to see it in action.']\n",
            "\n",
            "Word tokenizer:\n",
            "['Are', 'you', 'curious', 'about', 'tokenization', '?', 'Let', \"'s\", 'see', 'how', 'it', 'works', '!', 'We', 'need', 'to', 'analyze', 'a', 'couple', 'of', 'sentences', 'with', 'punctuations', 'to', 'see', 'it', 'in', 'action', '.']\n",
            "\n",
            "Punkt word tokenizer:\n",
            "['Are', 'you', 'curious', 'about', 'tokenization', '?', 'Let', \"'\", 's', 'see', 'how', 'it', 'works', '!', 'We', 'need', 'to', 'analyze', 'a', 'couple', 'of', 'sentences', 'with', 'punctuations', 'to', 'see', 'it', 'in', 'action', '.']\n",
            "\n",
            "Word punct tokenizer:\n",
            "['Are', 'you', 'curious', 'about', 'tokenization', '?', 'Let', \"'\", 's', 'see', 'how', 'it', 'works', '!', 'We', 'need', 'to', 'analyze', 'a', 'couple', 'of', 'sentences', 'with', 'punctuations', 'to', 'see', 'it', 'in', 'action', '.']\n"
          ]
        }
      ]
    },
    {
      "cell_type": "code",
      "source": [
        "from nltk.stem.porter import PorterStemmer\n",
        "from nltk.stem.lancaster import LancasterStemmer\n",
        "from nltk.stem.snowball import SnowballStemmer\n"
      ],
      "metadata": {
        "id": "nb9Dsno_j1Kn"
      },
      "execution_count": 20,
      "outputs": []
    },
    {
      "cell_type": "code",
      "source": [
        "words = ['table', 'probably', 'wolves', 'playing', 'is',\n",
        "'dog', 'the', 'beaches', 'grounded', 'dreamt',\n",
        "\n",
        "'envision']"
      ],
      "metadata": {
        "id": "CUPJDXoylOU4"
      },
      "execution_count": 21,
      "outputs": []
    },
    {
      "cell_type": "code",
      "source": [
        "stemmers = ['PORTER', 'LANCASTER', 'SNOWBALL']"
      ],
      "metadata": {
        "id": "gvedBrOZlT67"
      },
      "execution_count": 22,
      "outputs": []
    },
    {
      "cell_type": "code",
      "source": [
        "stemmer_porter = PorterStemmer()\n",
        "stemmer_lancaster = LancasterStemmer()\n",
        "stemmer_snowball = SnowballStemmer('english')"
      ],
      "metadata": {
        "id": "LSgtJQTNlYZX"
      },
      "execution_count": 23,
      "outputs": []
    },
    {
      "cell_type": "code",
      "source": [
        "formatted_row = '{:>16}' * (len(stemmers) + 1)\n",
        "print ('\\n', formatted_row.format('WORD', *stemmers), '\\n')"
      ],
      "metadata": {
        "id": "U441hI5Hlb1c",
        "outputId": "775574ac-66db-4ace-b4ba-3cde624d5b58",
        "colab": {
          "base_uri": "https://localhost:8080/"
        }
      },
      "execution_count": 25,
      "outputs": [
        {
          "output_type": "stream",
          "name": "stdout",
          "text": [
            "\n",
            "             WORD          PORTER       LANCASTER        SNOWBALL \n",
            "\n"
          ]
        }
      ]
    },
    {
      "cell_type": "code",
      "source": [
        "ormatted_row = '{:>16}' * (len(stemmers) + 1)\n",
        "print('\\n', formatted_row.format('WORD', *stemmers), '\\n')\n",
        "\n",
        "for word in words:\n",
        "    stemmed_words = [stemmer_porter.stem(word),\n",
        "                     stemmer_lancaster.stem(word),\n",
        "                     stemmer_snowball.stem(word)]\n",
        "\n",
        "    print(formatted_row.format(word, *stemmed_words))"
      ],
      "metadata": {
        "id": "gd043VcHl8zi",
        "outputId": "4adeb6d6-6fd2-4e44-869e-a473697d7ea3",
        "colab": {
          "base_uri": "https://localhost:8080/"
        }
      },
      "execution_count": 29,
      "outputs": [
        {
          "output_type": "stream",
          "name": "stdout",
          "text": [
            "\n",
            "             WORD          PORTER       LANCASTER        SNOWBALL \n",
            "\n",
            "           table            tabl            tabl            tabl\n",
            "        probably         probabl            prob         probabl\n",
            "          wolves            wolv            wolv            wolv\n",
            "         playing            play            play            play\n",
            "              is              is              is              is\n",
            "             dog             dog             dog             dog\n",
            "             the             the             the             the\n",
            "         beaches           beach           beach           beach\n",
            "        grounded          ground          ground          ground\n",
            "          dreamt          dreamt          dreamt          dreamt\n",
            "        envision           envis           envid           envis\n"
          ]
        }
      ]
    },
    {
      "cell_type": "code",
      "source": [],
      "metadata": {
        "id": "c1mQW65km-EU"
      },
      "execution_count": null,
      "outputs": []
    }
  ]
}